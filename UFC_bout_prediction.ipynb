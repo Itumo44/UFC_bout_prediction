{
 "cells": [
  {
   "cell_type": "markdown",
   "metadata": {},
   "source": [
    "<h1>UFC Bout Prediction<h1>"
   ]
  },
  {
   "cell_type": "code",
   "execution_count": 1,
   "metadata": {},
   "outputs": [],
   "source": [
    "import pandas as pd\n",
    "import tensorflow as tf\n",
    "from sklearn.model_selection import train_test_split"
   ]
  },
  {
   "cell_type": "code",
   "execution_count": 2,
   "metadata": {},
   "outputs": [],
   "source": [
    "UFC_data = pd.read_csv('UFC_data.csv')\n",
    "UFC_data = UFC_data.drop(['Unnamed: 0'], axis = 1)\n",
    "cols_to_norm = ['Height', 'Weight', 'Reach', 'DOB', 'SLpm', 'SAcc',\n",
    "                'SApm', 'StrDef', 'TDAvg', 'TDAcc', 'TDDef', 'SubAvg', 'AvgTime2Win',\n",
    "                'Height.1', 'Weight.1', 'Reach.1', 'DOB.1',\n",
    "                'SLpm.1', 'SAcc.1', 'SApm.1', 'StrDef.1', 'TDAvg.1', 'TDAcc.1',\n",
    "                'TDDef.1', 'SubAvg.1', 'AvgTime2Win.1']\n",
    "UFC_data[cols_to_norm] = UFC_data[cols_to_norm].apply(lambda x: (x- x.min()) / (x.max() - x.min()))"
   ]
  },
  {
   "cell_type": "code",
   "execution_count": 3,
   "metadata": {},
   "outputs": [],
   "source": [
    "Height = tf.feature_column.numeric_column('Height')\n",
    "Weight = tf.feature_column.numeric_column('Weight')\n",
    "Reach = tf.feature_column.numeric_column('Reach')\n",
    "DOB = tf.feature_column.numeric_column('DOB')\n",
    "SLpm = tf.feature_column.numeric_column('SLpm')\n",
    "SAcc = tf.feature_column.numeric_column('SAcc')\n",
    "SApm = tf.feature_column.numeric_column('SApm')\n",
    "StrDef = tf.feature_column.numeric_column('StrDef')\n",
    "TDAvg = tf.feature_column.numeric_column('TDAvg')\n",
    "TDAcc = tf.feature_column.numeric_column('TDAcc')\n",
    "TDDef = tf.feature_column.numeric_column('TDDef')\n",
    "SubAvg = tf.feature_column.numeric_column('SubAvg')\n",
    "AvgTime2Win = tf.feature_column.numeric_column('AvgTime2Win')\n",
    "\n",
    "\n",
    "Height_1 = tf.feature_column.numeric_column('Height.1')\n",
    "Weight_1 = tf.feature_column.numeric_column('Weight.1')\n",
    "Reach_1 = tf.feature_column.numeric_column('Reach.1')\n",
    "DOB_1 = tf.feature_column.numeric_column('DOB.1')\n",
    "SLpm_1 = tf.feature_column.numeric_column('SLpm.1')\n",
    "SAcc_1 = tf.feature_column.numeric_column('SAcc.1')\n",
    "SApm_1 = tf.feature_column.numeric_column('SApm.1')\n",
    "StrDef_1 = tf.feature_column.numeric_column('StrDef.1')\n",
    "TDAvg_1 = tf.feature_column.numeric_column('TDAvg.1')\n",
    "TDAcc_1 = tf.feature_column.numeric_column('TDAcc.1')\n",
    "TDDef_1 = tf.feature_column.numeric_column('TDDef.1')\n",
    "SubAvg_1 = tf.feature_column.numeric_column('SubAvg.1')\n",
    "AvgTime2Win_1 = tf.feature_column.numeric_column('AvgTime2Win.1')"
   ]
  },
  {
   "cell_type": "code",
   "execution_count": 4,
   "metadata": {},
   "outputs": [],
   "source": [
    "Stance = tf.feature_column.categorical_column_with_vocabulary_list('Stance',['Orthodox','Switch','Southpaw',\n",
    "                                                                             'Open Sta'])\n",
    "Stance_1 = tf.feature_column.categorical_column_with_vocabulary_list('Stance.1',['Orthodox','Switch','Southpaw',\n",
    "                                                                                 'Open Sta'])\n",
    "\n",
    "embedded_Stance = tf.feature_column.embedding_column(Stance, dimension=4)\n",
    "embedded_Stance_1 = tf.feature_column.embedding_column(Stance_1, dimension=4)"
   ]
  },
  {
   "cell_type": "code",
   "execution_count": 5,
   "metadata": {},
   "outputs": [],
   "source": [
    "feat_cols = [embedded_Stance, Height, Weight, Reach, DOB, SLpm, SAcc, SApm, StrDef, TDAvg, TDAcc, TDDef, SubAvg, AvgTime2Win, \n",
    "             embedded_Stance_1, Height_1, Weight_1, Reach_1, DOB_1, SLpm_1, SAcc_1, SApm_1, StrDef_1, TDAvg_1, TDAcc_1, \n",
    "             TDDef_1, SubAvg_1, AvgTime2Win_1]"
   ]
  },
  {
   "cell_type": "code",
   "execution_count": 6,
   "metadata": {},
   "outputs": [],
   "source": [
    "x_data = UFC_data.drop('Win', axis=1)"
   ]
  },
  {
   "cell_type": "code",
   "execution_count": 7,
   "metadata": {},
   "outputs": [],
   "source": [
    "labels = UFC_data['Win']"
   ]
  },
  {
   "cell_type": "code",
   "execution_count": 8,
   "metadata": {},
   "outputs": [],
   "source": [
    "X_train, X_test, y_train, y_test = train_test_split(x_data,labels,test_size=0.33, random_state=101)"
   ]
  },
  {
   "cell_type": "code",
   "execution_count": 9,
   "metadata": {},
   "outputs": [],
   "source": [
    "input_func = tf.compat.v1.estimator.inputs.pandas_input_fn(x=X_train,y=y_train,batch_size=10,\n",
    "                                                           num_epochs=1000,shuffle=True)"
   ]
  },
  {
   "cell_type": "code",
   "execution_count": 10,
   "metadata": {},
   "outputs": [
    {
     "name": "stdout",
     "output_type": "stream",
     "text": [
      "INFO:tensorflow:Using default config.\n",
      "WARNING:tensorflow:Using temporary folder as model directory: /var/folders/gq/yjx7byts2pngd97m8dqxp4xr0000gn/T/tmpcgfyvjba\n",
      "INFO:tensorflow:Using config: {'_model_dir': '/var/folders/gq/yjx7byts2pngd97m8dqxp4xr0000gn/T/tmpcgfyvjba', '_tf_random_seed': None, '_save_summary_steps': 100, '_save_checkpoints_steps': None, '_save_checkpoints_secs': 600, '_session_config': allow_soft_placement: true\n",
      "graph_options {\n",
      "  rewrite_options {\n",
      "    meta_optimizer_iterations: ONE\n",
      "  }\n",
      "}\n",
      ", '_keep_checkpoint_max': 5, '_keep_checkpoint_every_n_hours': 10000, '_log_step_count_steps': 100, '_train_distribute': None, '_device_fn': None, '_protocol': None, '_eval_distribute': None, '_experimental_distribute': None, '_experimental_max_worker_delay_secs': None, '_session_creation_timeout_secs': 7200, '_service': None, '_cluster_spec': <tensorflow.python.training.server_lib.ClusterSpec object at 0x1a45632898>, '_task_type': 'worker', '_task_id': 0, '_global_id_in_cluster': 0, '_master': '', '_evaluation_master': '', '_is_chief': True, '_num_ps_replicas': 0, '_num_worker_replicas': 1}\n"
     ]
    }
   ],
   "source": [
    "dnn_model = tf.compat.v1.estimator.DNNClassifier(hidden_units=[30,30,30],feature_columns=feat_cols,n_classes=2)"
   ]
  },
  {
   "cell_type": "code",
   "execution_count": 11,
   "metadata": {},
   "outputs": [
    {
     "name": "stdout",
     "output_type": "stream",
     "text": [
      "WARNING:tensorflow:From /anaconda3/lib/python3.6/site-packages/tensorflow_core/python/ops/resource_variable_ops.py:1630: calling BaseResourceVariable.__init__ (from tensorflow.python.ops.resource_variable_ops) with constraint is deprecated and will be removed in a future version.\n",
      "Instructions for updating:\n",
      "If using Keras pass *_constraint arguments to layers.\n",
      "WARNING:tensorflow:From /anaconda3/lib/python3.6/site-packages/tensorflow_core/python/training/training_util.py:236: Variable.initialized_value (from tensorflow.python.ops.variables) is deprecated and will be removed in a future version.\n",
      "Instructions for updating:\n",
      "Use Variable.read_value. Variables in 2.X are initialized automatically both in eager and graph (inside tf.defun) contexts.\n",
      "WARNING:tensorflow:From /anaconda3/lib/python3.6/site-packages/tensorflow_estimator/python/estimator/inputs/queues/feeding_queue_runner.py:62: QueueRunner.__init__ (from tensorflow.python.training.queue_runner_impl) is deprecated and will be removed in a future version.\n",
      "Instructions for updating:\n",
      "To construct input pipelines, use the `tf.data` module.\n",
      "WARNING:tensorflow:From /anaconda3/lib/python3.6/site-packages/tensorflow_estimator/python/estimator/inputs/queues/feeding_functions.py:500: add_queue_runner (from tensorflow.python.training.queue_runner_impl) is deprecated and will be removed in a future version.\n",
      "Instructions for updating:\n",
      "To construct input pipelines, use the `tf.data` module.\n",
      "INFO:tensorflow:Calling model_fn.\n",
      "WARNING:tensorflow:Layer dnn is casting an input tensor from dtype float64 to the layer's dtype of float32, which is new behavior in TensorFlow 2.  The layer has dtype float32 because it's dtype defaults to floatx.\n",
      "\n",
      "If you intended to run this layer in float32, you can safely ignore this warning. If in doubt, this warning is likely only an issue if you are porting a TensorFlow 1.X model to TensorFlow 2.\n",
      "\n",
      "To change all layers to have dtype float64 by default, call `tf.keras.backend.set_floatx('float64')`. To change just this layer, pass dtype='float64' to the layer constructor. If you are the author of this layer, you can disable autocasting by passing autocast=False to the base Layer constructor.\n",
      "\n",
      "WARNING:tensorflow:From /anaconda3/lib/python3.6/site-packages/tensorflow_estimator/python/estimator/canned/head.py:437: to_float (from tensorflow.python.ops.math_ops) is deprecated and will be removed in a future version.\n",
      "Instructions for updating:\n",
      "Use `tf.cast` instead.\n",
      "WARNING:tensorflow:From /anaconda3/lib/python3.6/site-packages/tensorflow_core/python/training/adagrad.py:76: calling Constant.__init__ (from tensorflow.python.ops.init_ops) with dtype is deprecated and will be removed in a future version.\n",
      "Instructions for updating:\n",
      "Call initializer instance with the dtype argument instead of passing it to the constructor\n",
      "INFO:tensorflow:Done calling model_fn.\n",
      "INFO:tensorflow:Create CheckpointSaverHook.\n",
      "INFO:tensorflow:Graph was finalized.\n",
      "INFO:tensorflow:Running local_init_op.\n",
      "INFO:tensorflow:Done running local_init_op.\n",
      "WARNING:tensorflow:From /anaconda3/lib/python3.6/site-packages/tensorflow_core/python/training/monitored_session.py:882: start_queue_runners (from tensorflow.python.training.queue_runner_impl) is deprecated and will be removed in a future version.\n",
      "Instructions for updating:\n",
      "To construct input pipelines, use the `tf.data` module.\n",
      "INFO:tensorflow:Saving checkpoints for 0 into /var/folders/gq/yjx7byts2pngd97m8dqxp4xr0000gn/T/tmpcgfyvjba/model.ckpt.\n",
      "INFO:tensorflow:loss = 6.4891043, step = 0\n",
      "INFO:tensorflow:global_step/sec: 81.7004\n",
      "INFO:tensorflow:loss = 5.1692767, step = 100 (1.225 sec)\n",
      "INFO:tensorflow:global_step/sec: 253.576\n",
      "INFO:tensorflow:loss = 3.9931107, step = 200 (0.395 sec)\n",
      "INFO:tensorflow:global_step/sec: 239.035\n",
      "INFO:tensorflow:loss = 5.27629, step = 300 (0.417 sec)\n",
      "INFO:tensorflow:global_step/sec: 230.158\n",
      "INFO:tensorflow:loss = 4.4496875, step = 400 (0.435 sec)\n",
      "INFO:tensorflow:global_step/sec: 238.431\n",
      "INFO:tensorflow:loss = 3.90572, step = 500 (0.417 sec)\n",
      "INFO:tensorflow:global_step/sec: 241.412\n",
      "INFO:tensorflow:loss = 4.67121, step = 600 (0.414 sec)\n",
      "INFO:tensorflow:global_step/sec: 237.335\n",
      "INFO:tensorflow:loss = 5.467684, step = 700 (0.423 sec)\n",
      "INFO:tensorflow:global_step/sec: 249.265\n",
      "INFO:tensorflow:loss = 3.9281604, step = 800 (0.401 sec)\n",
      "INFO:tensorflow:global_step/sec: 203.399\n",
      "INFO:tensorflow:loss = 3.3241227, step = 900 (0.492 sec)\n",
      "INFO:tensorflow:Saving checkpoints for 1000 into /var/folders/gq/yjx7byts2pngd97m8dqxp4xr0000gn/T/tmpcgfyvjba/model.ckpt.\n",
      "INFO:tensorflow:Loss for final step: 8.808041.\n"
     ]
    },
    {
     "data": {
      "text/plain": [
       "<tensorflow_estimator.python.estimator.canned.dnn.DNNClassifier at 0x1a45632b70>"
      ]
     },
     "execution_count": 11,
     "metadata": {},
     "output_type": "execute_result"
    }
   ],
   "source": [
    "dnn_model.train(input_fn=input_func,steps=1000)"
   ]
  },
  {
   "cell_type": "code",
   "execution_count": 12,
   "metadata": {},
   "outputs": [],
   "source": [
    "eval_input_func = tf.compat.v1.estimator.inputs.pandas_input_fn(\n",
    "      x=X_test,\n",
    "      y=y_test,\n",
    "      batch_size=10,\n",
    "      num_epochs=1,\n",
    "      shuffle=False)"
   ]
  },
  {
   "cell_type": "code",
   "execution_count": 13,
   "metadata": {},
   "outputs": [
    {
     "name": "stdout",
     "output_type": "stream",
     "text": [
      "INFO:tensorflow:Calling model_fn.\n",
      "WARNING:tensorflow:Layer dnn is casting an input tensor from dtype float64 to the layer's dtype of float32, which is new behavior in TensorFlow 2.  The layer has dtype float32 because it's dtype defaults to floatx.\n",
      "\n",
      "If you intended to run this layer in float32, you can safely ignore this warning. If in doubt, this warning is likely only an issue if you are porting a TensorFlow 1.X model to TensorFlow 2.\n",
      "\n",
      "To change all layers to have dtype float64 by default, call `tf.keras.backend.set_floatx('float64')`. To change just this layer, pass dtype='float64' to the layer constructor. If you are the author of this layer, you can disable autocasting by passing autocast=False to the base Layer constructor.\n",
      "\n",
      "WARNING:tensorflow:From /anaconda3/lib/python3.6/site-packages/tensorflow_core/python/ops/metrics_impl.py:2026: div (from tensorflow.python.ops.math_ops) is deprecated and will be removed in a future version.\n",
      "Instructions for updating:\n",
      "Deprecated in favor of operator or tf.math.divide.\n",
      "WARNING:tensorflow:Trapezoidal rule is known to produce incorrect PR-AUCs; please switch to \"careful_interpolation\" instead.\n",
      "WARNING:tensorflow:Trapezoidal rule is known to produce incorrect PR-AUCs; please switch to \"careful_interpolation\" instead.\n",
      "INFO:tensorflow:Done calling model_fn.\n",
      "INFO:tensorflow:Starting evaluation at 2020-01-30T08:44:36Z\n",
      "INFO:tensorflow:Graph was finalized.\n",
      "INFO:tensorflow:Restoring parameters from /var/folders/gq/yjx7byts2pngd97m8dqxp4xr0000gn/T/tmpcgfyvjba/model.ckpt-1000\n",
      "INFO:tensorflow:Running local_init_op.\n",
      "INFO:tensorflow:Done running local_init_op.\n",
      "INFO:tensorflow:Finished evaluation at 2020-01-30-08:44:39\n",
      "INFO:tensorflow:Saving dict for global step 1000: accuracy = 0.8102955, accuracy_baseline = 0.5176358, auc = 0.894398, auc_precision_recall = 0.90203565, average_loss = 0.41169137, global_step = 1000, label/mean = 0.5176358, loss = 4.112993, precision = 0.79553264, prediction/mean = 0.5475744, recall = 0.8526704\n",
      "INFO:tensorflow:Saving 'checkpoint_path' summary for global step 1000: /var/folders/gq/yjx7byts2pngd97m8dqxp4xr0000gn/T/tmpcgfyvjba/model.ckpt-1000\n"
     ]
    }
   ],
   "source": [
    "results = dnn_model.evaluate(eval_input_func)"
   ]
  },
  {
   "cell_type": "code",
   "execution_count": 14,
   "metadata": {},
   "outputs": [
    {
     "data": {
      "text/plain": [
       "{'accuracy': 0.8102955,\n",
       " 'accuracy_baseline': 0.5176358,\n",
       " 'auc': 0.894398,\n",
       " 'auc_precision_recall': 0.90203565,\n",
       " 'average_loss': 0.41169137,\n",
       " 'label/mean': 0.5176358,\n",
       " 'loss': 4.112993,\n",
       " 'precision': 0.79553264,\n",
       " 'prediction/mean': 0.5475744,\n",
       " 'recall': 0.8526704,\n",
       " 'global_step': 1000}"
      ]
     },
     "execution_count": 14,
     "metadata": {},
     "output_type": "execute_result"
    }
   ],
   "source": [
    "results"
   ]
  },
  {
   "cell_type": "code",
   "execution_count": null,
   "metadata": {},
   "outputs": [],
   "source": []
  }
 ],
 "metadata": {
  "kernelspec": {
   "display_name": "Python 3",
   "language": "python",
   "name": "python3"
  },
  "language_info": {
   "codemirror_mode": {
    "name": "ipython",
    "version": 3
   },
   "file_extension": ".py",
   "mimetype": "text/x-python",
   "name": "python",
   "nbconvert_exporter": "python",
   "pygments_lexer": "ipython3",
   "version": "3.6.9"
  }
 },
 "nbformat": 4,
 "nbformat_minor": 2
}
